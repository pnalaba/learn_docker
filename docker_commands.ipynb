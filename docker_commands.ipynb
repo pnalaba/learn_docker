{
 "cells": [
  {
   "cell_type": "code",
   "execution_count": 11,
   "metadata": {},
   "outputs": [
    {
     "data": {
      "text/plain": [
       "['----------   Images  -------------',\n",
       " 'REPOSITORY          TAG                 IMAGE ID            CREATED             SIZE',\n",
       " 'friendlyhello       latest              c89eaeb71d35        7 hours ago         131MB',\n",
       " 'python              2.7-slim            8559620b5b0d        2 weeks ago         120MB',\n",
       " 'hello-world         latest              fce289e99eb9        2 months ago        1.84kB',\n",
       " '----------   Containers .  -----------',\n",
       " 'CONTAINER ID        IMAGE               COMMAND             CREATED             STATUS              PORTS               NAMES']"
      ]
     },
     "execution_count": 11,
     "metadata": {},
     "output_type": "execute_result"
    }
   ],
   "source": [
    "%%! \n",
    "echo \"----------   Images  -------------\"\n",
    "docker images\n",
    "echo \"----------   Containers .  -----------\"\n",
    "docker container ls -a"
   ]
  },
  {
   "cell_type": "code",
   "execution_count": null,
   "metadata": {},
   "outputs": [],
   "source": [
    "#run image in interactive mode and detach with container running in background\n",
    "docker run -it -d centos:7.4.1708"
   ]
  },
  {
   "cell_type": "code",
   "execution_count": 1,
   "metadata": {},
   "outputs": [
    {
     "name": "stdout",
     "output_type": "stream",
     "text": [
      "CONTAINER ID        IMAGE               COMMAND             CREATED             STATUS              PORTS               NAMES\r\n",
      "f879290f66b8        centos:7.4.1708     \"/bin/bash\"         4 minutes ago       Up 4 minutes                            amazing_mendel\r\n"
     ]
    }
   ],
   "source": [
    "!docker container ls "
   ]
  },
  {
   "cell_type": "code",
   "execution_count": null,
   "metadata": {},
   "outputs": [],
   "source": [
    "#attach a bash shell to the container\n",
    "!docker exec -it f879290f66b8 bash"
   ]
  },
  {
   "cell_type": "code",
   "execution_count": null,
   "metadata": {},
   "outputs": [],
   "source": [
    "#to start a new container with command\n",
    "!docker run -it centos:7.4.1708 bash"
   ]
  },
  {
   "cell_type": "code",
   "execution_count": null,
   "metadata": {},
   "outputs": [],
   "source": [
    "#to delete all dead containers\n",
    "!docker rm $(docker ps -a -q)"
   ]
  }
 ],
 "metadata": {
  "kernelspec": {
   "display_name": "Python 3",
   "language": "python",
   "name": "python3"
  },
  "language_info": {
   "codemirror_mode": {
    "name": "ipython",
    "version": 3
   },
   "file_extension": ".py",
   "mimetype": "text/x-python",
   "name": "python",
   "nbconvert_exporter": "python",
   "pygments_lexer": "ipython3",
   "version": "3.6.5"
  }
 },
 "nbformat": 4,
 "nbformat_minor": 2
}
